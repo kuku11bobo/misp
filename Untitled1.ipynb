{
 "cells": [
  {
   "cell_type": "code",
   "execution_count": 3,
   "metadata": {},
   "outputs": [],
   "source": [
    "\n",
    "# Import PuLP modeler functions\n",
    "from pulp import *\n",
    "\n",
    "# Creates a list of the Ingredients\n",
    "Ingredients = ['CHICKEN', 'BEEF', 'MUTTON', 'RICE', 'WHEAT', 'GEL']\n",
    "\n",
    "# A dictionary of the costs of each of the Ingredients is created\n",
    "costs = {'CHICKEN': 0.013, \n",
    "         'BEEF': 0.008, \n",
    "         'MUTTON': 0.010, \n",
    "         'RICE': 0.002, \n",
    "         'WHEAT': 0.005, \n",
    "         'GEL': 0.001}\n",
    "\n",
    "# A dictionary of the protein percent in each of the Ingredients is created\n",
    "proteinPercent = {'CHICKEN': 0.100, \n",
    "                  'BEEF': 0.200, \n",
    "                  'MUTTON': 0.150, \n",
    "                  'RICE': 0.000, \n",
    "                  'WHEAT': 0.040, \n",
    "                  'GEL': 0.000}\n",
    "\n",
    "# A dictionary of the fat percent in each of the Ingredients is created\n",
    "fatPercent = {'CHICKEN': 0.080, \n",
    "              'BEEF': 0.100, \n",
    "              'MUTTON': 0.110, \n",
    "              'RICE': 0.010, \n",
    "              'WHEAT': 0.010, \n",
    "              'GEL': 0.000}\n",
    "\n",
    "# A dictionary of the fibre percent in each of the Ingredients is created\n",
    "fibrePercent = {'CHICKEN': 0.001, \n",
    "                'BEEF': 0.005, \n",
    "                'MUTTON': 0.003, \n",
    "                'RICE': 0.100, \n",
    "                'WHEAT': 0.150, \n",
    "                'GEL': 0.000}\n",
    "\n",
    "# A dictionary of the salt percent in each of the Ingredients is created\n",
    "saltPercent = {'CHICKEN': 0.002, \n",
    "               'BEEF': 0.005, \n",
    "               'MUTTON': 0.007, \n",
    "               'RICE': 0.002, \n",
    "               'WHEAT': 0.008, \n",
    "               'GEL': 0.000}\n",
    "\n",
    "\n",
    "# Create the 'prob' variable to contain the problem data\n",
    "prob = LpProblem(\"The Whiskas Problem\", LpMinimize)\n",
    "\n",
    "\n",
    "# A dictionary called 'ingredient_vars' is created to contain the referenced Variables\n",
    "ingredient_vars = LpVariable.dicts(\"Ingr\",Ingredients,0)\n",
    "\n",
    "\n",
    "# The objective function is added to 'prob' first\n",
    "prob += lpSum([costs[i]*ingredient_vars[i] for i in Ingredients]), \"Total Cost of Ingredients per can\"\n",
    "\n",
    "\n",
    "# The five constraints are added to 'prob'\n",
    "prob += lpSum([ingredient_vars[i] for i in Ingredients]) == 100, \"PercentagesSum\"\n",
    "prob += lpSum([proteinPercent[i] * ingredient_vars[i] for i in Ingredients]) >= 8.0, \"ProteinRequirement\"\n",
    "prob += lpSum([fatPercent[i] * ingredient_vars[i] for i in Ingredients]) >= 6.0, \"FatRequirement\"\n",
    "prob += lpSum([fibrePercent[i] * ingredient_vars[i] for i in Ingredients]) <= 2.0, \"FibreRequirement\"\n",
    "prob += lpSum([saltPercent[i] * ingredient_vars[i] for i in Ingredients]) <= 0.4, \"SaltRequirement\""
   ]
  },
  {
   "cell_type": "code",
   "execution_count": 4,
   "metadata": {},
   "outputs": [
    {
     "name": "stdout",
     "output_type": "stream",
     "text": [
      "Ingr_BEEF = None\n",
      "Total Cost of Ingredients per can =  None\n",
      "Ingr_CHICKEN = None\n",
      "Total Cost of Ingredients per can =  None\n",
      "Ingr_GEL = None\n",
      "Total Cost of Ingredients per can =  None\n",
      "Ingr_MUTTON = None\n",
      "Total Cost of Ingredients per can =  None\n",
      "Ingr_RICE = None\n",
      "Total Cost of Ingredients per can =  None\n",
      "Ingr_WHEAT = None\n",
      "Total Cost of Ingredients per can =  None\n"
     ]
    }
   ],
   "source": [
    "for v in prob.variables():\n",
    "    print (v.name, \"=\", v.varValue)\n",
    "    print(\"Total Cost of Ingredients per can = \", value(prob.objective))"
   ]
  },
  {
   "cell_type": "code",
   "execution_count": null,
   "metadata": {},
   "outputs": [],
   "source": []
  }
 ],
 "metadata": {
  "kernelspec": {
   "display_name": "Python 3",
   "language": "python",
   "name": "python3"
  },
  "language_info": {
   "codemirror_mode": {
    "name": "ipython",
    "version": 3
   },
   "file_extension": ".py",
   "mimetype": "text/x-python",
   "name": "python",
   "nbconvert_exporter": "python",
   "pygments_lexer": "ipython3",
   "version": "3.7.3"
  }
 },
 "nbformat": 4,
 "nbformat_minor": 2
}
