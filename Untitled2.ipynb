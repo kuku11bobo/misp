{
 "cells": [
  {
   "cell_type": "code",
   "execution_count": 47,
   "metadata": {},
   "outputs": [],
   "source": [
    "from pulp import *\n",
    "import pandas as pd\n"
   ]
  },
  {
   "cell_type": "code",
   "execution_count": 58,
   "metadata": {},
   "outputs": [
    {
     "name": "stdout",
     "output_type": "stream",
     "text": [
      "Optimal\n",
      "Sztuki dostarczone do baru 1,2 i 3 z browaru 1.:\n",
      "-0.0\n",
      "5.0\n",
      "10.0\n",
      "Sztuki dostarczone do baru 1,2 i 3 z browaru 2.:\n",
      "19.0\n",
      "0.0\n",
      "0.0\n",
      "Koszt całkowity minimalny =  138.0\n"
     ]
    }
   ],
   "source": [
    "\n",
    "# INSTANCE\n",
    "SZTUKI = [ (0,19), (0,5), (0,10), (0,19), (0,5), (0,10) ] #zakresy ilości sztuk jaką mogą dostarczyć browary do barów\n",
    "KOSZT = [15, 10, 5, 2, 15, 20] #koszty dostarczenia z browaru 1 do baru 1,2,3 oraz z browaru 2 do baru 1,2,3\n",
    "D1, D2 = [20, 20] #\n",
    "\n",
    "# MODEL\n",
    "prob = LpProblem(\"Problem\",LpMinimize)\n",
    "# zmienne- x11.x12,x13- ilosc sztuk z browaru 1 do baru 1, 2,\n",
    "x11, x12, x13 = LpVariable(\"x11\", *SZTUKI[0]), LpVariable(\"x12\", *SZTUKI[1]), LpVariable(\"x13\", *SZTUKI[2])\n",
    "x21, x22, x23 = LpVariable(\"x21\", *SZTUKI[3]), LpVariable(\"x22\", *SZTUKI[4]), LpVariable(\"x23\", *SZTUKI[5])\n",
    "# OBJECTIVE FUNCTION -> added before constraints => important ,\n",
    "prob += lpDot(KOSZT, [x11,x12,x13,x21,x22,x23]), \"Koszty\"\n",
    "# CONSTRAINTS\n",
    "prob+= x11+x21==19\n",
    "prob+= x12+x22==5\n",
    "prob+= x13+x23==10\n",
    "\n",
    "prob += x11 + x12 + x13 <= D1\n",
    "prob += x21 + x22 + x23 <= D2\n",
    "\n",
    "# SOLVE\n",
    "status = prob.solve()\n",
    "\n",
    "# PRINT SOLUTION\n",
    "print (LpStatus[status])\n",
    "print (\"Sztuki dostarczone do baru 1,2 i 3 z browaru 1.:\")\n",
    "for var in [x11,x12,x13]:\n",
    "    print (value(var))\n",
    "print (\"Sztuki dostarczone do baru 1,2 i 3 z browaru 2.:\")\n",
    "\n",
    "for var in [x21,x22,x23]:\n",
    "    print (value(var))\n",
    "print(\"Koszt całkowity minimalny = \", value(prob.objective))\n"
   ]
  },
  {
   "cell_type": "code",
   "execution_count": null,
   "metadata": {},
   "outputs": [],
   "source": []
  }
 ],
 "metadata": {
  "kernelspec": {
   "display_name": "Python 3",
   "language": "python",
   "name": "python3"
  },
  "language_info": {
   "codemirror_mode": {
    "name": "ipython",
    "version": 3
   },
   "file_extension": ".py",
   "mimetype": "text/x-python",
   "name": "python",
   "nbconvert_exporter": "python",
   "pygments_lexer": "ipython3",
   "version": "3.7.3"
  }
 },
 "nbformat": 4,
 "nbformat_minor": 2
}
