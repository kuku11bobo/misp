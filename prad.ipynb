{
 "cells": [
  {
   "cell_type": "code",
   "execution_count": 1,
   "metadata": {},
   "outputs": [],
   "source": [
    "from pulp import *\n",
    "import pandas as pd"
   ]
  },
  {
   "cell_type": "code",
   "execution_count": 2,
   "metadata": {},
   "outputs": [
    {
     "ename": "SyntaxError",
     "evalue": "invalid syntax (<ipython-input-2-ed3839336b07>, line 10)",
     "output_type": "error",
     "traceback": [
      "\u001b[0;36m  File \u001b[0;32m\"<ipython-input-2-ed3839336b07>\"\u001b[0;36m, line \u001b[0;32m10\u001b[0m\n\u001b[0;31m    prob += (prad_R1 + prad_R2) = prad_R3 = (prad_R4 + prad_R5) = prad\u001b[0m\n\u001b[0m                                ^\u001b[0m\n\u001b[0;31mSyntaxError\u001b[0m\u001b[0;31m:\u001b[0m invalid syntax\n"
     ]
    }
   ],
   "source": [
    "prob = LpProblem(\"Największy możliwy prąd\",LpMaximize)\n",
    "\n",
    "# zmienna decyzyjna\n",
    "prad =LpVariable(\"Prąd\",0)\n",
    "\n",
    "# pomocnicze\n",
    "napiecie =LpVariable(\"napiecie\",0)\n",
    "prad_R1 =LpVariable(\"Prąd\",0)\n",
    "\n",
    "prob += (prad_R1 + prad_R2) = prad_R3 = (prad_R4 + prad_R5) = prad\n",
    "prob += (napiecie/8) == prad_R1\n",
    "prob += prad / 8 == prad_R1, \"Zuzycie prądu\"\n",
    "\n",
    "prob += prad_R1 <= 2, \"Maksimum prąd na R1\"\n",
    "prob += prad_R2 <= 3, \"Maksimum prąd na R2\"\n",
    "prob += prad_R3 <= 4, \"Maksimum prąd na R3\"\n",
    "prob += prad_R4 <= 2, \"Maksimum prąd na R4\"\n",
    "prob += prad_R5 <= 2, \"Maksimum prąd na R5\"\n",
    "\n",
    "prob += zuzycie_miodu <= 25, \"Max prąd\""
   ]
  }
 ],
 "metadata": {
  "kernelspec": {
   "display_name": "Python 3",
   "language": "python",
   "name": "python3"
  },
  "language_info": {
   "codemirror_mode": {
    "name": "ipython",
    "version": 3
   },
   "file_extension": ".py",
   "mimetype": "text/x-python",
   "name": "python",
   "nbconvert_exporter": "python",
   "pygments_lexer": "ipython3",
   "version": "3.7.3"
  }
 },
 "nbformat": 4,
 "nbformat_minor": 2
}
