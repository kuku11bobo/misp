{
 "cells": [
  {
   "cell_type": "code",
   "execution_count": 11,
   "metadata": {},
   "outputs": [],
   "source": [
    "from pulp import *\n",
    "import pandas as pd"
   ]
  },
  {
   "cell_type": "code",
   "execution_count": 12,
   "metadata": {},
   "outputs": [],
   "source": [
    "prob = LpProblem(\"Najlepsza produkcja hurt\",LpMaximize)\n",
    "\n",
    "dzem =LpVariable(\"Dzem\",0)\n",
    "mus=LpVariable(\"Mus\",0)\n",
    "# pomocnicze\n",
    "zuzycie_jablek =LpVariable(\"Jabłka\",0)\n",
    "zuzycie_miodu =LpVariable(\"Miód\",0)\n",
    "\n",
    "prob += 16* dzem + 11* mus - 0.3 * zuzycie_jablek - 0.2 * zuzycie_miodu\n",
    "prob += 8 * dzem + 2 * mus == zuzycie_jablek, \"Zuzycie jabłek\"\n",
    "prob += 5 * dzem + 5 * mus == zuzycie_miodu, \"Zuzycie miodu\"\n",
    "prob += zuzycie_jablek <= 40, \"Maksimum jablek\"\n",
    "prob += zuzycie_miodu <= 25, \"Maksimum miodu\""
   ]
  },
  {
   "cell_type": "markdown",
   "metadata": {},
   "source": []
  },
  {
   "cell_type": "code",
   "execution_count": 13,
   "metadata": {},
   "outputs": [],
   "source": [
    "prob.writeLP(\"Produkcja.LP\")"
   ]
  },
  {
   "cell_type": "code",
   "execution_count": 14,
   "metadata": {},
   "outputs": [
    {
     "name": "stdout",
     "output_type": "stream",
     "text": [
      "Status: Optimal\n",
      "Dzem = 5.0\n",
      "Jabłka = 40.0\n",
      "Miód = 25.0\n",
      "Mus = 0.0\n",
      "Zysk wyniesie 63.0 zł \n"
     ]
    }
   ],
   "source": [
    "prob.solve()\n",
    "print(\"Status:\", LpStatus[prob.status])\n",
    "for v in prob.variables():\n",
    "    print(v.name, \"=\", v.varValue)\n",
    "print(\"Zysk wyniesie {} zł \".format (value(prob.objective)))"
   ]
  },
  {
   "cell_type": "code",
   "execution_count": null,
   "metadata": {},
   "outputs": [],
   "source": []
  }
 ],
 "metadata": {
  "kernelspec": {
   "display_name": "Python 3",
   "language": "python",
   "name": "python3"
  },
  "language_info": {
   "codemirror_mode": {
    "name": "ipython",
    "version": 3
   },
   "file_extension": ".py",
   "mimetype": "text/x-python",
   "name": "python",
   "nbconvert_exporter": "python",
   "pygments_lexer": "ipython3",
   "version": "3.7.3"
  }
 },
 "nbformat": 4,
 "nbformat_minor": 2
}
