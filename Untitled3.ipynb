{
 "cells": [
  {
   "cell_type": "code",
   "execution_count": 2,
   "metadata": {},
   "outputs": [],
   "source": [
    "from pulp import *\n",
    "Warehouses = [\"A\",\"B\"]\n",
    "\n",
    "# Creates a dictionary for the number of units of supply for each supply node\n",
    "supply = {\"A\": 1000,\n",
    "        \"B\": 4000}\n",
    "\n",
    "# Creates a list of all demand nodes\n",
    "Bars = [\"1\", \"2\", \"3\", \"4\", \"5\"]\n",
    "\n",
    "# Creates a dictionary for the number of units of demand for each demand node\n",
    "demand = {\"1\": 500,\n",
    "        \"2\": 900,\n",
    "        \"3\": 1800,\n",
    "        \"4\": 200,\n",
    "        \"5\": 700}\n",
    "# Creates a list of costs of each transportation path\n",
    "costs = { \"A\" : {\"1\" : 2, \"2\" : 4, \"3\" : 5, \"4\" : 2, \"5\" : 1 },\n",
    "          \"B\" : {\"1\" : 3, \"2\" : 1, \"3\" : 3, \"4\" : 2, \"5\" : 3 }}\n",
    "# Creates the prob variable to contain the problem data\n",
    "prob = LpProblem(\"Beer Distribution Problem\",LpMinimize)\n",
    "# Creates a list of tuples containing all the possible routes for transport\n",
    "Routes = [(w,b) for w in Warehouses for b in Bars]\n",
    "# A dictionary called route_vars is created to contain the referenced variables (the routes)\n",
    "route_vars = LpVariable.dicts(\"Route\",(Warehouses,Bars),0,None,LpInteger)\n",
    "# The objective function is added to prob first\n",
    "prob += lpSum([route_vars[w][b]*costs[w][b] for (w,b) in Routes]), \"Sum of Transporting Costs\"\n",
    "\n"
   ]
  },
  {
   "cell_type": "code",
   "execution_count": null,
   "metadata": {},
   "outputs": [],
   "source": []
  }
 ],
 "metadata": {
  "kernelspec": {
   "display_name": "Python 3",
   "language": "python",
   "name": "python3"
  },
  "language_info": {
   "codemirror_mode": {
    "name": "ipython",
    "version": 3
   },
   "file_extension": ".py",
   "mimetype": "text/x-python",
   "name": "python",
   "nbconvert_exporter": "python",
   "pygments_lexer": "ipython3",
   "version": "3.7.3"
  }
 },
 "nbformat": 4,
 "nbformat_minor": 2
}
